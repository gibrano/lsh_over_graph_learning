{
 "cells": [
  {
   "cell_type": "code",
   "execution_count": 1,
   "id": "5d880cd8-b7e7-4d0b-a19b-35c8fa571354",
   "metadata": {},
   "outputs": [],
   "source": [
    "import pandas as pd\n",
    "import numpy as np\n",
    "import networkx as nx\n",
    "from grakel import GraphKernel\n",
    "from grakel import Graph\n",
    "\n",
    "import random\n",
    "from random import shuffle\n",
    "\n",
    "from sklearn.svm import SVC\n",
    "from sklearn.model_selection import train_test_split\n",
    "from sklearn.metrics import accuracy_score\n",
    "from sklearn.utils import shuffle\n",
    "\n",
    "from collections import defaultdict\n",
    "from itertools import chain, groupby\n",
    "from tqdm import tqdm\n",
    "import json\n",
    "import matplotlib.pylab as plt\n",
    "import time\n",
    "\n",
    "plt.rcParams['figure.figsize'] = [15, 15]"
   ]
  },
  {
   "cell_type": "code",
   "execution_count": 2,
   "id": "5e8e3d9a-84c5-4af0-b5a7-349e55b7f395",
   "metadata": {},
   "outputs": [],
   "source": [
    "def matrix_prod_trace(A,B):\n",
    "    n = len(A)\n",
    "    diag_sum = 0\n",
    "    for i in range(n):\n",
    "        diag_sum += np.matmul(A[i,:],B[:,i])\n",
    "    return diag_sum\n",
    "\n",
    "def hash_p_stable(projection, r):\n",
    "    bin_counts = {}\n",
    "    for i in range(1):\n",
    "        b = np.random.uniform(0,r)\n",
    "        bin_hash = int(np.floor((projection + b ) / r ))\n",
    "        bin_counts[bin_hash] = bin_counts.get(bin_hash, 0) + 1\n",
    "\n",
    "    max_value = max(bin_counts, key=bin_counts.get)\n",
    "    return max_value\n",
    "\n",
    "def get_erdos_renyi_graph(n,p):\n",
    "    done = True\n",
    "    while done:\n",
    "        g = nx.erdos_renyi_graph(n,p)\n",
    "        if g.number_of_edges() > 0:\n",
    "            return g"
   ]
  },
  {
   "cell_type": "markdown",
   "id": "8a46642d-fb16-4ce4-bb86-19553b4d6278",
   "metadata": {},
   "source": [
    "# Generate synthetic graphs"
   ]
  },
  {
   "cell_type": "code",
   "execution_count": 3,
   "id": "d63394fb-eb6e-47a8-a2b3-02414cb71151",
   "metadata": {},
   "outputs": [],
   "source": [
    "num_graph = 1000\n",
    "n_nodes = 20 # 5, 7, 10, 12, 15, 20\n",
    "m_ba = 3\n",
    "dim = 2\n",
    "\n",
    "target_avg_degree = 2 * m_ba\n",
    "p_target = target_avg_degree / (n_nodes - 1)  # edge probability approximation\n",
    "r = np.sqrt(p_target / np.pi)           # radius heuristic in 2D\n",
    "\n",
    "seed=42"
   ]
  },
  {
   "cell_type": "code",
   "execution_count": 4,
   "id": "fbf36ad7-d192-4c9c-a1e4-ca72815c26bd",
   "metadata": {},
   "outputs": [],
   "source": [
    "rgg_graphs = []\n",
    "i = 0\n",
    "while len(rgg_graphs) < int(num_graph/2):\n",
    "    #g = nx.erdos_renyi_graph(n=n_nodes, p=p_er, seed=seed)\n",
    "    g = nx.random_geometric_graph(n=n_nodes, radius=r, dim=dim, seed=seed)\n",
    "    if g.number_of_edges() > 0:\n",
    "        rgg_graphs.append(g)\n",
    "    i += 1"
   ]
  },
  {
   "cell_type": "code",
   "execution_count": 5,
   "id": "83d9365a-1c62-4167-ad7f-d748f897c37d",
   "metadata": {},
   "outputs": [],
   "source": [
    "ba_graphs = []\n",
    "i = 0\n",
    "while len(ba_graphs) < int(num_graph/2):\n",
    "    g = nx.barabasi_albert_graph(n=n_nodes, m=m_ba, seed=seed)\n",
    "    if g.number_of_edges() > 0:\n",
    "        ba_graphs.append(g)\n",
    "    i += 1"
   ]
  },
  {
   "cell_type": "code",
   "execution_count": 6,
   "id": "9bd3c394-a1e9-4c95-8e82-8da937b718f2",
   "metadata": {},
   "outputs": [],
   "source": [
    "graphs = rgg_graphs + ba_graphs\n",
    "y = np.zeros(num_graph)"
   ]
  },
  {
   "cell_type": "code",
   "execution_count": 7,
   "id": "3c531135-68a1-4f94-ac35-5922af1994c5",
   "metadata": {},
   "outputs": [
    {
     "data": {
      "text/plain": [
       "1000"
      ]
     },
     "execution_count": 7,
     "metadata": {},
     "output_type": "execute_result"
    }
   ],
   "source": [
    "len(graphs)"
   ]
  },
  {
   "cell_type": "code",
   "execution_count": 8,
   "id": "9080bddd-ae15-4d1f-8b5f-a4459077740a",
   "metadata": {},
   "outputs": [],
   "source": [
    "y[:int(num_graph/2)] = 1"
   ]
  },
  {
   "cell_type": "code",
   "execution_count": 9,
   "id": "8c06f15e-e596-4ac7-bbf2-7e479f550cf4",
   "metadata": {},
   "outputs": [],
   "source": [
    "graphs, y = shuffle(graphs, y)"
   ]
  },
  {
   "cell_type": "code",
   "execution_count": 10,
   "id": "a27ef551-8bc9-4bf5-86a2-afc8bbdab4c5",
   "metadata": {},
   "outputs": [],
   "source": [
    "graphs_train, graphs_test, y_train, y_test = train_test_split(graphs, y, test_size=0.2, random_state=42)"
   ]
  },
  {
   "cell_type": "markdown",
   "id": "cc268908-4828-4ce4-907e-2ac1cc3c0036",
   "metadata": {},
   "source": [
    "# Generate Buckets"
   ]
  },
  {
   "cell_type": "code",
   "execution_count": 11,
   "id": "2d0c16f4-5e5a-4ce1-95b0-03384f6e0326",
   "metadata": {},
   "outputs": [],
   "source": [
    "start_time = time.time()"
   ]
  },
  {
   "cell_type": "code",
   "execution_count": 12,
   "id": "786b2954-4259-4253-8129-0c27d5086b31",
   "metadata": {},
   "outputs": [
    {
     "name": "stderr",
     "output_type": "stream",
     "text": [
      "100%|████████████████████████████████████████████████████████████████████████████████████████████████████████████████████████████████████████████████████████████████████████████████████████████████████████████████████| 5/5 [00:00<00:00,  6.20it/s]"
     ]
    },
    {
     "name": "stdout",
     "output_type": "stream",
     "text": [
      "CPU times: user 806 ms, sys: 24.6 ms, total: 831 ms\n",
      "Wall time: 809 ms\n"
     ]
    },
    {
     "name": "stderr",
     "output_type": "stream",
     "text": [
      "\n"
     ]
    }
   ],
   "source": [
    "%%time\n",
    "\n",
    "num_proj = 5\n",
    "B = 100\n",
    "num_graph = len(graphs_train)\n",
    "\n",
    "projections = []\n",
    "bucket_ids = [''] * num_graph\n",
    "for k in tqdm(range(num_proj)):\n",
    "    erg = get_erdos_renyi_graph(n_nodes, 0.8)\n",
    "    A_er = nx.adjacency_matrix(erg)\n",
    "    \n",
    "    for i in range(num_graph):\n",
    "        A = nx.adjacency_matrix(graphs_train[i])\n",
    "        proj = matrix_prod_trace(A.toarray(),A_er.toarray())\n",
    "        projections.append(proj)\n",
    "\n",
    "    min_proj = min(projections)\n",
    "    max_proj = max(projections)\n",
    "    r = (max_proj - min_proj)/B\n",
    "    for i in range(num_graph):\n",
    "        hash_bin = hash_p_stable(projections[i], r)\n",
    "        bucket_ids[i] += str(hash_bin)"
   ]
  },
  {
   "cell_type": "markdown",
   "id": "161fd18d-75c0-423d-afc3-7f5373a76c3f",
   "metadata": {},
   "source": [
    "# Choose representative by bucket"
   ]
  },
  {
   "cell_type": "code",
   "execution_count": 13,
   "id": "5b4283cf-ba6b-473b-a0d7-cf720fe734bc",
   "metadata": {},
   "outputs": [
    {
     "data": {
      "text/plain": [
       "31"
      ]
     },
     "execution_count": 13,
     "metadata": {},
     "output_type": "execute_result"
    }
   ],
   "source": [
    "clusters = defaultdict(list)\n",
    "for idx, label in enumerate(bucket_ids):\n",
    "    clusters[label].append(idx)\n",
    "\n",
    "idx = [random.choice(indices) for indices in clusters.values()]\n",
    "len(idx)"
   ]
  },
  {
   "cell_type": "code",
   "execution_count": 14,
   "id": "d3e3fe27-ed98-4783-ba5f-56e5a0af0e44",
   "metadata": {},
   "outputs": [],
   "source": [
    "representatives = [Graph(nx.to_dict_of_lists(graphs_train[i])) for i in idx]"
   ]
  },
  {
   "cell_type": "code",
   "execution_count": 15,
   "id": "0f3ed708-e0d6-4fc5-9064-a61652a45afe",
   "metadata": {},
   "outputs": [
    {
     "data": {
      "text/plain": [
       "31"
      ]
     },
     "execution_count": 15,
     "metadata": {},
     "output_type": "execute_result"
    }
   ],
   "source": [
    "len(representatives)"
   ]
  },
  {
   "cell_type": "code",
   "execution_count": 16,
   "id": "8929fdbf-f9f8-404f-9fcd-7acdd861c2e6",
   "metadata": {},
   "outputs": [],
   "source": [
    "y_train2 = [y_train[i] for i in idx]"
   ]
  },
  {
   "cell_type": "code",
   "execution_count": 17,
   "id": "30ae7e98-2d2c-48fe-afbd-7255736d30f5",
   "metadata": {},
   "outputs": [
    {
     "data": {
      "text/plain": [
       "Counter({1.0: 16, 0.0: 15})"
      ]
     },
     "execution_count": 17,
     "metadata": {},
     "output_type": "execute_result"
    }
   ],
   "source": [
    "from collections import Counter\n",
    "Counter(y_train2)"
   ]
  },
  {
   "cell_type": "markdown",
   "id": "d652edd2-c361-4a67-b810-5ce81c19e160",
   "metadata": {},
   "source": [
    "# Create Kernel Matrix"
   ]
  },
  {
   "cell_type": "code",
   "execution_count": 18,
   "id": "15ecf35a-dd91-4062-af5f-81bc2d8a8476",
   "metadata": {},
   "outputs": [
    {
     "name": "stdout",
     "output_type": "stream",
     "text": [
      "CPU times: user 332 ms, sys: 1.3 ms, total: 333 ms\n",
      "Wall time: 332 ms\n"
     ]
    }
   ],
   "source": [
    "%%time\n",
    "kernel = GraphKernel(kernel={\"name\": \"random_walk\"}, normalize=False)\n",
    "#kernel = GraphKernel(kernel={\"name\": \"shortest_path\"}, normalize=True)\n",
    "K_train = kernel.fit_transform(representatives)"
   ]
  },
  {
   "cell_type": "markdown",
   "id": "dbcd4486-164a-4137-97b5-05ae45bc2c81",
   "metadata": {},
   "source": [
    "# Train "
   ]
  },
  {
   "cell_type": "code",
   "execution_count": 19,
   "id": "ca59fca6-0735-4a28-a4de-7011bd0a297f",
   "metadata": {},
   "outputs": [
    {
     "name": "stdout",
     "output_type": "stream",
     "text": [
      "CPU times: user 1.72 ms, sys: 0 ns, total: 1.72 ms\n",
      "Wall time: 1.37 ms\n"
     ]
    },
    {
     "data": {
      "text/html": [
       "<style>#sk-container-id-1 {color: black;background-color: white;}#sk-container-id-1 pre{padding: 0;}#sk-container-id-1 div.sk-toggleable {background-color: white;}#sk-container-id-1 label.sk-toggleable__label {cursor: pointer;display: block;width: 100%;margin-bottom: 0;padding: 0.3em;box-sizing: border-box;text-align: center;}#sk-container-id-1 label.sk-toggleable__label-arrow:before {content: \"▸\";float: left;margin-right: 0.25em;color: #696969;}#sk-container-id-1 label.sk-toggleable__label-arrow:hover:before {color: black;}#sk-container-id-1 div.sk-estimator:hover label.sk-toggleable__label-arrow:before {color: black;}#sk-container-id-1 div.sk-toggleable__content {max-height: 0;max-width: 0;overflow: hidden;text-align: left;background-color: #f0f8ff;}#sk-container-id-1 div.sk-toggleable__content pre {margin: 0.2em;color: black;border-radius: 0.25em;background-color: #f0f8ff;}#sk-container-id-1 input.sk-toggleable__control:checked~div.sk-toggleable__content {max-height: 200px;max-width: 100%;overflow: auto;}#sk-container-id-1 input.sk-toggleable__control:checked~label.sk-toggleable__label-arrow:before {content: \"▾\";}#sk-container-id-1 div.sk-estimator input.sk-toggleable__control:checked~label.sk-toggleable__label {background-color: #d4ebff;}#sk-container-id-1 div.sk-label input.sk-toggleable__control:checked~label.sk-toggleable__label {background-color: #d4ebff;}#sk-container-id-1 input.sk-hidden--visually {border: 0;clip: rect(1px 1px 1px 1px);clip: rect(1px, 1px, 1px, 1px);height: 1px;margin: -1px;overflow: hidden;padding: 0;position: absolute;width: 1px;}#sk-container-id-1 div.sk-estimator {font-family: monospace;background-color: #f0f8ff;border: 1px dotted black;border-radius: 0.25em;box-sizing: border-box;margin-bottom: 0.5em;}#sk-container-id-1 div.sk-estimator:hover {background-color: #d4ebff;}#sk-container-id-1 div.sk-parallel-item::after {content: \"\";width: 100%;border-bottom: 1px solid gray;flex-grow: 1;}#sk-container-id-1 div.sk-label:hover label.sk-toggleable__label {background-color: #d4ebff;}#sk-container-id-1 div.sk-serial::before {content: \"\";position: absolute;border-left: 1px solid gray;box-sizing: border-box;top: 0;bottom: 0;left: 50%;z-index: 0;}#sk-container-id-1 div.sk-serial {display: flex;flex-direction: column;align-items: center;background-color: white;padding-right: 0.2em;padding-left: 0.2em;position: relative;}#sk-container-id-1 div.sk-item {position: relative;z-index: 1;}#sk-container-id-1 div.sk-parallel {display: flex;align-items: stretch;justify-content: center;background-color: white;position: relative;}#sk-container-id-1 div.sk-item::before, #sk-container-id-1 div.sk-parallel-item::before {content: \"\";position: absolute;border-left: 1px solid gray;box-sizing: border-box;top: 0;bottom: 0;left: 50%;z-index: -1;}#sk-container-id-1 div.sk-parallel-item {display: flex;flex-direction: column;z-index: 1;position: relative;background-color: white;}#sk-container-id-1 div.sk-parallel-item:first-child::after {align-self: flex-end;width: 50%;}#sk-container-id-1 div.sk-parallel-item:last-child::after {align-self: flex-start;width: 50%;}#sk-container-id-1 div.sk-parallel-item:only-child::after {width: 0;}#sk-container-id-1 div.sk-dashed-wrapped {border: 1px dashed gray;margin: 0 0.4em 0.5em 0.4em;box-sizing: border-box;padding-bottom: 0.4em;background-color: white;}#sk-container-id-1 div.sk-label label {font-family: monospace;font-weight: bold;display: inline-block;line-height: 1.2em;}#sk-container-id-1 div.sk-label-container {text-align: center;}#sk-container-id-1 div.sk-container {/* jupyter's `normalize.less` sets `[hidden] { display: none; }` but bootstrap.min.css set `[hidden] { display: none !important; }` so we also need the `!important` here to be able to override the default hidden behavior on the sphinx rendered scikit-learn.org. See: https://github.com/scikit-learn/scikit-learn/issues/21755 */display: inline-block !important;position: relative;}#sk-container-id-1 div.sk-text-repr-fallback {display: none;}</style><div id=\"sk-container-id-1\" class=\"sk-top-container\"><div class=\"sk-text-repr-fallback\"><pre>SVC(kernel=&#x27;precomputed&#x27;)</pre><b>In a Jupyter environment, please rerun this cell to show the HTML representation or trust the notebook. <br />On GitHub, the HTML representation is unable to render, please try loading this page with nbviewer.org.</b></div><div class=\"sk-container\" hidden><div class=\"sk-item\"><div class=\"sk-estimator sk-toggleable\"><input class=\"sk-toggleable__control sk-hidden--visually\" id=\"sk-estimator-id-1\" type=\"checkbox\" checked><label for=\"sk-estimator-id-1\" class=\"sk-toggleable__label sk-toggleable__label-arrow\">SVC</label><div class=\"sk-toggleable__content\"><pre>SVC(kernel=&#x27;precomputed&#x27;)</pre></div></div></div></div></div>"
      ],
      "text/plain": [
       "SVC(kernel='precomputed')"
      ]
     },
     "execution_count": 19,
     "metadata": {},
     "output_type": "execute_result"
    }
   ],
   "source": [
    "%%time\n",
    "clf = SVC(kernel=\"precomputed\")\n",
    "clf.fit(K_train, y_train2)"
   ]
  },
  {
   "cell_type": "code",
   "execution_count": 20,
   "id": "53113fd3-bba2-4e70-b7ee-aa756ab89833",
   "metadata": {},
   "outputs": [
    {
     "name": "stdout",
     "output_type": "stream",
     "text": [
      " Training time --- 1.2286555767059326 seconds ---\n"
     ]
    }
   ],
   "source": [
    "print(\" Training time --- %s seconds ---\" % (time.time() - start_time))"
   ]
  },
  {
   "cell_type": "code",
   "execution_count": 21,
   "id": "a145e095-fde7-45ef-9ea6-bf12f97a0317",
   "metadata": {},
   "outputs": [
    {
     "data": {
      "text/plain": [
       "array([1, 1], dtype=int32)"
      ]
     },
     "execution_count": 21,
     "metadata": {},
     "output_type": "execute_result"
    }
   ],
   "source": [
    "clf.n_support_"
   ]
  },
  {
   "cell_type": "code",
   "execution_count": 22,
   "id": "e571903d-7235-48fe-9204-aaaffb6b5848",
   "metadata": {},
   "outputs": [
    {
     "data": {
      "text/plain": [
       "2"
      ]
     },
     "execution_count": 22,
     "metadata": {},
     "output_type": "execute_result"
    }
   ],
   "source": [
    "sum(clf.n_support_)"
   ]
  },
  {
   "cell_type": "markdown",
   "id": "4b6e4587-8718-4e6e-bc46-1d38c8ebb1d7",
   "metadata": {},
   "source": [
    "# Prediction over test"
   ]
  },
  {
   "cell_type": "code",
   "execution_count": 23,
   "id": "89ea7dd6-9644-4cd5-afb6-8c1d7dc1f638",
   "metadata": {},
   "outputs": [],
   "source": [
    "start_time = time.time()"
   ]
  },
  {
   "cell_type": "code",
   "execution_count": 24,
   "id": "674d0d07-9f6d-4677-88fe-6bf1f25e22b3",
   "metadata": {},
   "outputs": [],
   "source": [
    "graphs_test2 = [Graph(nx.to_dict_of_lists(graphs_test[i])) for i in range(len(graphs_test))]\n",
    "K_test = kernel.transform(graphs_test2)"
   ]
  },
  {
   "cell_type": "code",
   "execution_count": 25,
   "id": "0424484f-aef0-4b93-a656-dc322dce49bb",
   "metadata": {},
   "outputs": [
    {
     "name": "stdout",
     "output_type": "stream",
     "text": [
      "Accuracy: 1.0\n"
     ]
    }
   ],
   "source": [
    "\n",
    "y_pred = clf.predict(K_test)\n",
    "\n",
    "print(\"Accuracy:\", accuracy_score(y_test, y_pred))"
   ]
  },
  {
   "cell_type": "code",
   "execution_count": 26,
   "id": "c564e63e-047a-4c31-aaae-fc08443160be",
   "metadata": {},
   "outputs": [
    {
     "name": "stdout",
     "output_type": "stream",
     "text": [
      " Prediction time --- 3.9825599193573 seconds ---\n"
     ]
    }
   ],
   "source": [
    "print(\" Prediction time --- %s seconds ---\" % (time.time() - start_time))"
   ]
  },
  {
   "cell_type": "markdown",
   "id": "2415fa75-13b0-4067-a976-4e0830d6ad60",
   "metadata": {},
   "source": [
    "# Comple Training"
   ]
  },
  {
   "cell_type": "code",
   "execution_count": 27,
   "id": "2d35aae0-eb3d-405b-b0b9-147ee3821559",
   "metadata": {},
   "outputs": [],
   "source": [
    "start_time = time.time()"
   ]
  },
  {
   "cell_type": "code",
   "execution_count": 28,
   "id": "c7289b4b-11a4-4174-801c-f07293b80067",
   "metadata": {},
   "outputs": [],
   "source": [
    "graphs_train2 = [Graph(nx.to_dict_of_lists(graphs_train[i])) for i in range(len(graphs_train))]"
   ]
  },
  {
   "cell_type": "code",
   "execution_count": 29,
   "id": "391c378a-9158-47bb-a6e0-b7a0da5ea762",
   "metadata": {},
   "outputs": [
    {
     "name": "stdout",
     "output_type": "stream",
     "text": [
      "CPU times: user 3min 30s, sys: 21.4 ms, total: 3min 30s\n",
      "Wall time: 3min 30s\n"
     ]
    }
   ],
   "source": [
    "%%time\n",
    "kernel = GraphKernel(kernel={\"name\": \"random_walk\"}, normalize=False)\n",
    "#kernel = GraphKernel(kernel={\"name\": \"shortest_path\"}, normalize=True)\n",
    "K_train = kernel.fit_transform(graphs_train2)"
   ]
  },
  {
   "cell_type": "code",
   "execution_count": 30,
   "id": "2a09bcc6-4ecc-486d-a056-63b2a8b89d61",
   "metadata": {},
   "outputs": [
    {
     "name": "stdout",
     "output_type": "stream",
     "text": [
      "CPU times: user 2.53 ms, sys: 1.02 ms, total: 3.55 ms\n",
      "Wall time: 1.96 ms\n"
     ]
    },
    {
     "data": {
      "text/html": [
       "<style>#sk-container-id-2 {color: black;background-color: white;}#sk-container-id-2 pre{padding: 0;}#sk-container-id-2 div.sk-toggleable {background-color: white;}#sk-container-id-2 label.sk-toggleable__label {cursor: pointer;display: block;width: 100%;margin-bottom: 0;padding: 0.3em;box-sizing: border-box;text-align: center;}#sk-container-id-2 label.sk-toggleable__label-arrow:before {content: \"▸\";float: left;margin-right: 0.25em;color: #696969;}#sk-container-id-2 label.sk-toggleable__label-arrow:hover:before {color: black;}#sk-container-id-2 div.sk-estimator:hover label.sk-toggleable__label-arrow:before {color: black;}#sk-container-id-2 div.sk-toggleable__content {max-height: 0;max-width: 0;overflow: hidden;text-align: left;background-color: #f0f8ff;}#sk-container-id-2 div.sk-toggleable__content pre {margin: 0.2em;color: black;border-radius: 0.25em;background-color: #f0f8ff;}#sk-container-id-2 input.sk-toggleable__control:checked~div.sk-toggleable__content {max-height: 200px;max-width: 100%;overflow: auto;}#sk-container-id-2 input.sk-toggleable__control:checked~label.sk-toggleable__label-arrow:before {content: \"▾\";}#sk-container-id-2 div.sk-estimator input.sk-toggleable__control:checked~label.sk-toggleable__label {background-color: #d4ebff;}#sk-container-id-2 div.sk-label input.sk-toggleable__control:checked~label.sk-toggleable__label {background-color: #d4ebff;}#sk-container-id-2 input.sk-hidden--visually {border: 0;clip: rect(1px 1px 1px 1px);clip: rect(1px, 1px, 1px, 1px);height: 1px;margin: -1px;overflow: hidden;padding: 0;position: absolute;width: 1px;}#sk-container-id-2 div.sk-estimator {font-family: monospace;background-color: #f0f8ff;border: 1px dotted black;border-radius: 0.25em;box-sizing: border-box;margin-bottom: 0.5em;}#sk-container-id-2 div.sk-estimator:hover {background-color: #d4ebff;}#sk-container-id-2 div.sk-parallel-item::after {content: \"\";width: 100%;border-bottom: 1px solid gray;flex-grow: 1;}#sk-container-id-2 div.sk-label:hover label.sk-toggleable__label {background-color: #d4ebff;}#sk-container-id-2 div.sk-serial::before {content: \"\";position: absolute;border-left: 1px solid gray;box-sizing: border-box;top: 0;bottom: 0;left: 50%;z-index: 0;}#sk-container-id-2 div.sk-serial {display: flex;flex-direction: column;align-items: center;background-color: white;padding-right: 0.2em;padding-left: 0.2em;position: relative;}#sk-container-id-2 div.sk-item {position: relative;z-index: 1;}#sk-container-id-2 div.sk-parallel {display: flex;align-items: stretch;justify-content: center;background-color: white;position: relative;}#sk-container-id-2 div.sk-item::before, #sk-container-id-2 div.sk-parallel-item::before {content: \"\";position: absolute;border-left: 1px solid gray;box-sizing: border-box;top: 0;bottom: 0;left: 50%;z-index: -1;}#sk-container-id-2 div.sk-parallel-item {display: flex;flex-direction: column;z-index: 1;position: relative;background-color: white;}#sk-container-id-2 div.sk-parallel-item:first-child::after {align-self: flex-end;width: 50%;}#sk-container-id-2 div.sk-parallel-item:last-child::after {align-self: flex-start;width: 50%;}#sk-container-id-2 div.sk-parallel-item:only-child::after {width: 0;}#sk-container-id-2 div.sk-dashed-wrapped {border: 1px dashed gray;margin: 0 0.4em 0.5em 0.4em;box-sizing: border-box;padding-bottom: 0.4em;background-color: white;}#sk-container-id-2 div.sk-label label {font-family: monospace;font-weight: bold;display: inline-block;line-height: 1.2em;}#sk-container-id-2 div.sk-label-container {text-align: center;}#sk-container-id-2 div.sk-container {/* jupyter's `normalize.less` sets `[hidden] { display: none; }` but bootstrap.min.css set `[hidden] { display: none !important; }` so we also need the `!important` here to be able to override the default hidden behavior on the sphinx rendered scikit-learn.org. See: https://github.com/scikit-learn/scikit-learn/issues/21755 */display: inline-block !important;position: relative;}#sk-container-id-2 div.sk-text-repr-fallback {display: none;}</style><div id=\"sk-container-id-2\" class=\"sk-top-container\"><div class=\"sk-text-repr-fallback\"><pre>SVC(kernel=&#x27;precomputed&#x27;)</pre><b>In a Jupyter environment, please rerun this cell to show the HTML representation or trust the notebook. <br />On GitHub, the HTML representation is unable to render, please try loading this page with nbviewer.org.</b></div><div class=\"sk-container\" hidden><div class=\"sk-item\"><div class=\"sk-estimator sk-toggleable\"><input class=\"sk-toggleable__control sk-hidden--visually\" id=\"sk-estimator-id-2\" type=\"checkbox\" checked><label for=\"sk-estimator-id-2\" class=\"sk-toggleable__label sk-toggleable__label-arrow\">SVC</label><div class=\"sk-toggleable__content\"><pre>SVC(kernel=&#x27;precomputed&#x27;)</pre></div></div></div></div></div>"
      ],
      "text/plain": [
       "SVC(kernel='precomputed')"
      ]
     },
     "execution_count": 30,
     "metadata": {},
     "output_type": "execute_result"
    }
   ],
   "source": [
    "%%time\n",
    "clf = SVC(kernel=\"precomputed\")\n",
    "clf.fit(K_train, y_train)"
   ]
  },
  {
   "cell_type": "code",
   "execution_count": 31,
   "id": "269d26b6-2358-4de9-a11c-23e1f20477c3",
   "metadata": {},
   "outputs": [
    {
     "data": {
      "text/plain": [
       "array([1, 1], dtype=int32)"
      ]
     },
     "execution_count": 31,
     "metadata": {},
     "output_type": "execute_result"
    }
   ],
   "source": [
    "clf.n_support_"
   ]
  },
  {
   "cell_type": "code",
   "execution_count": 32,
   "id": "ef51d5e4-418c-45d2-a65e-4f838cf2ce58",
   "metadata": {},
   "outputs": [
    {
     "data": {
      "text/plain": [
       "2"
      ]
     },
     "execution_count": 32,
     "metadata": {},
     "output_type": "execute_result"
    }
   ],
   "source": [
    "sum(clf.n_support_)"
   ]
  },
  {
   "cell_type": "code",
   "execution_count": 33,
   "id": "a066aa89-2979-47ea-94e5-278d78f00e81",
   "metadata": {},
   "outputs": [
    {
     "name": "stdout",
     "output_type": "stream",
     "text": [
      " Training time --- 211.05767726898193 seconds ---\n"
     ]
    }
   ],
   "source": [
    "print(\" Training time --- %s seconds ---\" % (time.time() - start_time))"
   ]
  },
  {
   "cell_type": "markdown",
   "id": "4fcee90b-f978-4c1f-906d-9c5a74da3301",
   "metadata": {},
   "source": [
    "# Prediction over test"
   ]
  },
  {
   "cell_type": "code",
   "execution_count": 34,
   "id": "e7067233-ff22-4390-b140-bc6873ae3053",
   "metadata": {},
   "outputs": [],
   "source": [
    "start_time = time.time()"
   ]
  },
  {
   "cell_type": "code",
   "execution_count": 35,
   "id": "a700f588-565c-4e8c-9a5f-2ba565dcba92",
   "metadata": {},
   "outputs": [],
   "source": [
    "graphs_test2 = [Graph(nx.to_dict_of_lists(graphs_test[i])) for i in range(len(graphs_test))]\n",
    "K_test = kernel.transform(graphs_test2)"
   ]
  },
  {
   "cell_type": "code",
   "execution_count": 36,
   "id": "c8a23364-03b8-4394-83bf-b2a2a21a7387",
   "metadata": {},
   "outputs": [
    {
     "name": "stdout",
     "output_type": "stream",
     "text": [
      "Accuracy: 1.0\n"
     ]
    }
   ],
   "source": [
    "y_pred = clf.predict(K_test)\n",
    "\n",
    "print(\"Accuracy:\", accuracy_score(y_test, y_pred))"
   ]
  },
  {
   "cell_type": "code",
   "execution_count": 37,
   "id": "e8527709-fd36-4378-8900-4882bd48f2e2",
   "metadata": {},
   "outputs": [
    {
     "name": "stdout",
     "output_type": "stream",
     "text": [
      " Prediction time --- 108.0149405002594 seconds ---\n"
     ]
    }
   ],
   "source": [
    "print(\" Prediction time --- %s seconds ---\" % (time.time() - start_time))"
   ]
  },
  {
   "cell_type": "code",
   "execution_count": null,
   "id": "d90f7973-513f-4552-8288-e0f55030556c",
   "metadata": {},
   "outputs": [],
   "source": []
  },
  {
   "cell_type": "code",
   "execution_count": null,
   "id": "c9dcc1c5-e291-4d3a-a08e-7e0b5a7302be",
   "metadata": {},
   "outputs": [],
   "source": []
  }
 ],
 "metadata": {
  "kernelspec": {
   "display_name": "Python 3 (ipykernel)",
   "language": "python",
   "name": "python3"
  },
  "language_info": {
   "codemirror_mode": {
    "name": "ipython",
    "version": 3
   },
   "file_extension": ".py",
   "mimetype": "text/x-python",
   "name": "python",
   "nbconvert_exporter": "python",
   "pygments_lexer": "ipython3",
   "version": "3.11.7"
  }
 },
 "nbformat": 4,
 "nbformat_minor": 5
}
